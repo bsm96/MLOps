{
 "cells": [
  {
   "cell_type": "code",
   "execution_count": 1,
   "metadata": {},
   "outputs": [
    {
     "name": "stdout",
     "output_type": "stream",
     "text": [
      "Requirement already satisfied: gdown in /opt/anaconda3/lib/python3.11/site-packages (5.2.0)\n",
      "Requirement already satisfied: beautifulsoup4 in /opt/anaconda3/lib/python3.11/site-packages (from gdown) (4.12.3)\n",
      "Requirement already satisfied: filelock in /opt/anaconda3/lib/python3.11/site-packages (from gdown) (3.13.1)\n",
      "Requirement already satisfied: requests[socks] in /opt/anaconda3/lib/python3.11/site-packages (from gdown) (2.32.3)\n",
      "Requirement already satisfied: tqdm in /opt/anaconda3/lib/python3.11/site-packages (from gdown) (4.66.5)\n",
      "Requirement already satisfied: soupsieve>1.2 in /opt/anaconda3/lib/python3.11/site-packages (from beautifulsoup4->gdown) (2.5)\n",
      "Requirement already satisfied: charset-normalizer<4,>=2 in /opt/anaconda3/lib/python3.11/site-packages (from requests[socks]->gdown) (3.3.2)\n",
      "Requirement already satisfied: idna<4,>=2.5 in /opt/anaconda3/lib/python3.11/site-packages (from requests[socks]->gdown) (3.7)\n",
      "Requirement already satisfied: urllib3<3,>=1.21.1 in /opt/anaconda3/lib/python3.11/site-packages (from requests[socks]->gdown) (2.2.3)\n",
      "Requirement already satisfied: certifi>=2017.4.17 in /opt/anaconda3/lib/python3.11/site-packages (from requests[socks]->gdown) (2024.12.14)\n",
      "Requirement already satisfied: PySocks!=1.5.7,>=1.5.6 in /opt/anaconda3/lib/python3.11/site-packages (from requests[socks]->gdown) (1.7.1)\n",
      "\u001b[33mWARNING: Error parsing dependencies of uvicorn: .* suffix can only be used with `==` or `!=` operators\n",
      "    python-dotenv (>=0.13.*) ; extra == 'standard'\n",
      "                   ~~~~~~~^\u001b[0m\u001b[33m\n",
      "\u001b[0mNote: you may need to restart the kernel to use updated packages.\n"
     ]
    }
   ],
   "source": [
    "pip install gdown"
   ]
  },
  {
   "cell_type": "code",
   "execution_count": 4,
   "metadata": {},
   "outputs": [
    {
     "name": "stdout",
     "output_type": "stream",
     "text": [
      "Retrieving folder contents\n",
      "Processing file 15gHtJmf6pdX42nsqBz8XyxHPQ2N7nsyo test_images.pt\n",
      "Processing file 1Ct4CigPRTxj9P_kkOB2RWnTKnSZQdHbf test_target.pt\n",
      "Processing file 1o0PVC7gRizrbpaJcVmF64MJbpg6PX0iS train_images_0.pt\n",
      "Processing file 1QqrwLkc4lqTxdX3mTEtO1Gi1y7P5oDTe train_images_1.pt\n",
      "Processing file 1ThOVMtSSMN6hjD3vu_RZJblRyPOzmVH4 train_images_2.pt\n",
      "Processing file 1HK9WE7edjoIeDr5xlmBghmSNNdCDfioN train_images_3.pt\n",
      "Processing file 1nEUZsd97CZw6IB2yb7_OnbIZsrXbchiP train_images_4.pt\n",
      "Processing file 1cNtHOUCIVwUBL_tVaMFv3gC4v_plKFyz train_images_5.pt\n",
      "Processing file 1eVGhv99m6mUmAGz_h7hprKW4kgituIf5 train_target_0.pt\n",
      "Processing file 1zn7yBcsvw-KQoUlz4ER0f7eiJ-D9vHNh train_target_1.pt\n",
      "Processing file 1v7i7RTjXx8-4BGonDMwpsHnQlhr4jzGW train_target_2.pt\n",
      "Processing file 1ftug3okIJaV_24M9WTSpumId3bSZ091X train_target_3.pt\n",
      "Processing file 1NYcarvunomp62Kw9OesGJkRCrGeu7lwx train_target_4.pt\n",
      "Processing file 11bIWYOy-cp6i3N6yJqtOGizusBOKMLnY train_target_5.pt\n",
      "Retrieving folder contents completed\n",
      "Building directory structure\n",
      "Building directory structure completed\n",
      "Downloading...\n",
      "From: https://drive.google.com/uc?id=15gHtJmf6pdX42nsqBz8XyxHPQ2N7nsyo\n",
      "To: /Users/bsm/Library/CloudStorage/OneDrive-DanmarksTekniskeUniversitet/DTU/5. semester/02476 Machine Learning Operations/MLOps/data/corruptedmnist/test_images.pt\n",
      "100%|██████████████████████████████████████| 15.7M/15.7M [00:02<00:00, 5.36MB/s]\n",
      "Downloading...\n",
      "From: https://drive.google.com/uc?id=1Ct4CigPRTxj9P_kkOB2RWnTKnSZQdHbf\n",
      "To: /Users/bsm/Library/CloudStorage/OneDrive-DanmarksTekniskeUniversitet/DTU/5. semester/02476 Machine Learning Operations/MLOps/data/corruptedmnist/test_target.pt\n",
      "100%|███████████████████████████████████████| 80.8k/80.8k [00:00<00:00, 822kB/s]\n",
      "Downloading...\n",
      "From: https://drive.google.com/uc?id=1o0PVC7gRizrbpaJcVmF64MJbpg6PX0iS\n",
      "To: /Users/bsm/Library/CloudStorage/OneDrive-DanmarksTekniskeUniversitet/DTU/5. semester/02476 Machine Learning Operations/MLOps/data/corruptedmnist/train_images_0.pt\n",
      "100%|██████████████████████████████████████| 15.7M/15.7M [00:02<00:00, 6.68MB/s]\n",
      "Downloading...\n",
      "From: https://drive.google.com/uc?id=1QqrwLkc4lqTxdX3mTEtO1Gi1y7P5oDTe\n",
      "To: /Users/bsm/Library/CloudStorage/OneDrive-DanmarksTekniskeUniversitet/DTU/5. semester/02476 Machine Learning Operations/MLOps/data/corruptedmnist/train_images_1.pt\n",
      "100%|██████████████████████████████████████| 15.7M/15.7M [00:04<00:00, 3.47MB/s]\n",
      "Downloading...\n",
      "From: https://drive.google.com/uc?id=1ThOVMtSSMN6hjD3vu_RZJblRyPOzmVH4\n",
      "To: /Users/bsm/Library/CloudStorage/OneDrive-DanmarksTekniskeUniversitet/DTU/5. semester/02476 Machine Learning Operations/MLOps/data/corruptedmnist/train_images_2.pt\n",
      "100%|██████████████████████████████████████| 15.7M/15.7M [00:01<00:00, 9.81MB/s]\n",
      "Downloading...\n",
      "From: https://drive.google.com/uc?id=1HK9WE7edjoIeDr5xlmBghmSNNdCDfioN\n",
      "To: /Users/bsm/Library/CloudStorage/OneDrive-DanmarksTekniskeUniversitet/DTU/5. semester/02476 Machine Learning Operations/MLOps/data/corruptedmnist/train_images_3.pt\n",
      "100%|██████████████████████████████████████| 15.7M/15.7M [00:02<00:00, 7.53MB/s]\n",
      "Downloading...\n",
      "From: https://drive.google.com/uc?id=1nEUZsd97CZw6IB2yb7_OnbIZsrXbchiP\n",
      "To: /Users/bsm/Library/CloudStorage/OneDrive-DanmarksTekniskeUniversitet/DTU/5. semester/02476 Machine Learning Operations/MLOps/data/corruptedmnist/train_images_4.pt\n",
      "100%|██████████████████████████████████████| 15.7M/15.7M [00:02<00:00, 5.91MB/s]\n",
      "Downloading...\n",
      "From: https://drive.google.com/uc?id=1cNtHOUCIVwUBL_tVaMFv3gC4v_plKFyz\n",
      "To: /Users/bsm/Library/CloudStorage/OneDrive-DanmarksTekniskeUniversitet/DTU/5. semester/02476 Machine Learning Operations/MLOps/data/corruptedmnist/train_images_5.pt\n",
      "100%|██████████████████████████████████████| 15.7M/15.7M [00:03<00:00, 5.21MB/s]\n",
      "Downloading...\n",
      "From: https://drive.google.com/uc?id=1eVGhv99m6mUmAGz_h7hprKW4kgituIf5\n",
      "To: /Users/bsm/Library/CloudStorage/OneDrive-DanmarksTekniskeUniversitet/DTU/5. semester/02476 Machine Learning Operations/MLOps/data/corruptedmnist/train_target_0.pt\n",
      "100%|████████████████████████████████████████| 481k/481k [00:00<00:00, 2.78MB/s]\n",
      "Downloading...\n",
      "From: https://drive.google.com/uc?id=1zn7yBcsvw-KQoUlz4ER0f7eiJ-D9vHNh\n",
      "To: /Users/bsm/Library/CloudStorage/OneDrive-DanmarksTekniskeUniversitet/DTU/5. semester/02476 Machine Learning Operations/MLOps/data/corruptedmnist/train_target_1.pt\n",
      "100%|████████████████████████████████████████| 481k/481k [00:00<00:00, 2.41MB/s]\n",
      "Downloading...\n",
      "From: https://drive.google.com/uc?id=1v7i7RTjXx8-4BGonDMwpsHnQlhr4jzGW\n",
      "To: /Users/bsm/Library/CloudStorage/OneDrive-DanmarksTekniskeUniversitet/DTU/5. semester/02476 Machine Learning Operations/MLOps/data/corruptedmnist/train_target_2.pt\n",
      "100%|████████████████████████████████████████| 481k/481k [00:00<00:00, 2.22MB/s]\n",
      "Downloading...\n",
      "From: https://drive.google.com/uc?id=1ftug3okIJaV_24M9WTSpumId3bSZ091X\n",
      "To: /Users/bsm/Library/CloudStorage/OneDrive-DanmarksTekniskeUniversitet/DTU/5. semester/02476 Machine Learning Operations/MLOps/data/corruptedmnist/train_target_3.pt\n",
      "100%|████████████████████████████████████████| 481k/481k [00:00<00:00, 2.15MB/s]\n",
      "Downloading...\n",
      "From: https://drive.google.com/uc?id=1NYcarvunomp62Kw9OesGJkRCrGeu7lwx\n",
      "To: /Users/bsm/Library/CloudStorage/OneDrive-DanmarksTekniskeUniversitet/DTU/5. semester/02476 Machine Learning Operations/MLOps/data/corruptedmnist/train_target_4.pt\n",
      "100%|████████████████████████████████████████| 481k/481k [00:00<00:00, 2.07MB/s]\n",
      "Downloading...\n",
      "From: https://drive.google.com/uc?id=11bIWYOy-cp6i3N6yJqtOGizusBOKMLnY\n",
      "To: /Users/bsm/Library/CloudStorage/OneDrive-DanmarksTekniskeUniversitet/DTU/5. semester/02476 Machine Learning Operations/MLOps/data/corruptedmnist/train_target_5.pt\n",
      "100%|████████████████████████████████████████| 481k/481k [00:00<00:00, 2.99MB/s]\n",
      "Download completed\n"
     ]
    }
   ],
   "source": [
    "!gdown --folder \"https://drive.google.com/drive/folders/1ddWeCcsfmelqxF8sOGBihY9IU98S9JRP?usp=sharing\" -O data/corruptedmnist\n"
   ]
  },
  {
   "cell_type": "code",
   "execution_count": 1,
   "metadata": {},
   "outputs": [
    {
     "name": "stdout",
     "output_type": "stream",
     "text": [
      "Requirement already satisfied: cookiecutter in /opt/anaconda3/lib/python3.11/site-packages (2.6.0)\n",
      "Requirement already satisfied: binaryornot>=0.4.4 in /opt/anaconda3/lib/python3.11/site-packages (from cookiecutter) (0.4.4)\n",
      "Requirement already satisfied: Jinja2<4.0.0,>=2.7 in /opt/anaconda3/lib/python3.11/site-packages (from cookiecutter) (3.1.4)\n",
      "Requirement already satisfied: click<9.0.0,>=7.0 in /opt/anaconda3/lib/python3.11/site-packages (from cookiecutter) (7.1.2)\n",
      "Requirement already satisfied: pyyaml>=5.3.1 in /opt/anaconda3/lib/python3.11/site-packages (from cookiecutter) (6.0.2)\n",
      "Requirement already satisfied: python-slugify>=4.0.0 in /opt/anaconda3/lib/python3.11/site-packages (from cookiecutter) (5.0.2)\n",
      "Requirement already satisfied: requests>=2.23.0 in /opt/anaconda3/lib/python3.11/site-packages (from cookiecutter) (2.32.3)\n",
      "Requirement already satisfied: arrow in /opt/anaconda3/lib/python3.11/site-packages (from cookiecutter) (1.3.0)\n",
      "Requirement already satisfied: rich in /opt/anaconda3/lib/python3.11/site-packages (from cookiecutter) (13.9.4)\n",
      "Requirement already satisfied: chardet>=3.0.2 in /opt/anaconda3/lib/python3.11/site-packages (from binaryornot>=0.4.4->cookiecutter) (4.0.0)\n",
      "Requirement already satisfied: MarkupSafe>=2.0 in /opt/anaconda3/lib/python3.11/site-packages (from Jinja2<4.0.0,>=2.7->cookiecutter) (2.1.3)\n",
      "Requirement already satisfied: text-unidecode>=1.3 in /opt/anaconda3/lib/python3.11/site-packages (from python-slugify>=4.0.0->cookiecutter) (1.3)\n",
      "Requirement already satisfied: charset-normalizer<4,>=2 in /opt/anaconda3/lib/python3.11/site-packages (from requests>=2.23.0->cookiecutter) (3.3.2)\n",
      "Requirement already satisfied: idna<4,>=2.5 in /opt/anaconda3/lib/python3.11/site-packages (from requests>=2.23.0->cookiecutter) (3.7)\n",
      "Requirement already satisfied: urllib3<3,>=1.21.1 in /opt/anaconda3/lib/python3.11/site-packages (from requests>=2.23.0->cookiecutter) (2.2.3)\n",
      "Requirement already satisfied: certifi>=2017.4.17 in /opt/anaconda3/lib/python3.11/site-packages (from requests>=2.23.0->cookiecutter) (2024.12.14)\n",
      "Requirement already satisfied: python-dateutil>=2.7.0 in /opt/anaconda3/lib/python3.11/site-packages (from arrow->cookiecutter) (2.9.0.post0)\n",
      "Requirement already satisfied: markdown-it-py>=2.2.0 in /opt/anaconda3/lib/python3.11/site-packages (from rich->cookiecutter) (2.2.0)\n",
      "Requirement already satisfied: pygments<3.0.0,>=2.13.0 in /opt/anaconda3/lib/python3.11/site-packages (from rich->cookiecutter) (2.15.1)\n",
      "Requirement already satisfied: mdurl~=0.1 in /opt/anaconda3/lib/python3.11/site-packages (from markdown-it-py>=2.2.0->rich->cookiecutter) (0.1.0)\n",
      "Requirement already satisfied: six>=1.5 in /opt/anaconda3/lib/python3.11/site-packages (from python-dateutil>=2.7.0->arrow->cookiecutter) (1.16.0)\n",
      "\u001b[33mWARNING: Error parsing dependencies of uvicorn: .* suffix can only be used with `==` or `!=` operators\n",
      "    python-dotenv (>=0.13.*) ; extra == 'standard'\n",
      "                   ~~~~~~~^\u001b[0m\u001b[33m\n",
      "\u001b[0mNote: you may need to restart the kernel to use updated packages.\n"
     ]
    }
   ],
   "source": [
    "pip install cookiecutter"
   ]
  },
  {
   "cell_type": "code",
   "execution_count": null,
   "metadata": {},
   "outputs": [],
   "source": []
  }
 ],
 "metadata": {
  "kernelspec": {
   "display_name": "base",
   "language": "python",
   "name": "python3"
  },
  "language_info": {
   "codemirror_mode": {
    "name": "ipython",
    "version": 3
   },
   "file_extension": ".py",
   "mimetype": "text/x-python",
   "name": "python",
   "nbconvert_exporter": "python",
   "pygments_lexer": "ipython3",
   "version": "3.11.8"
  }
 },
 "nbformat": 4,
 "nbformat_minor": 2
}
